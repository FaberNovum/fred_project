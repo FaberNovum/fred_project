{
 "cells": [
  {
   "cell_type": "markdown",
   "id": "d20bdac7-5144-425d-9f67-ce1f811a8da3",
   "metadata": {},
   "source": [
    "## Configs"
   ]
  },
  {
   "cell_type": "code",
   "execution_count": 2,
   "id": "a7728ddc-467c-4ef4-afce-f19cfecb71bf",
   "metadata": {},
   "outputs": [],
   "source": [
    "import fredapi as fa\n",
    "import pandas as pd\n",
    "import dotenv\n",
    "from full_fred.fred import Fred"
   ]
  },
  {
   "cell_type": "code",
   "execution_count": 5,
   "id": "27f0c326-5977-42da-8f3c-cac9a73ca60b",
   "metadata": {},
   "outputs": [],
   "source": [
    "from dotenv import load_dotenv\n",
    "import os\n",
    "load_dotenv()\n",
    "token = os.environ.get(\"fred_token\")"
   ]
  },
  {
   "cell_type": "code",
   "execution_count": 13,
   "id": "9515cf48-d825-4a44-b4b4-6a56c42dbfbf",
   "metadata": {},
   "outputs": [],
   "source": [
    "key_path = r'C:\\Users\\wrigh\\Code\\fred_project\\api_key.txt'\n",
    "fred = Fred(key_path)"
   ]
  },
  {
   "cell_type": "code",
   "execution_count": 14,
   "id": "5ac8729b-016f-49e8-9e2f-dab59a6eb5fc",
   "metadata": {},
   "outputs": [
    {
     "data": {
      "text/plain": [
       "'C:\\\\Users\\\\wrigh\\\\Code\\\\fred_project\\\\api_key.txt'"
      ]
     },
     "execution_count": 14,
     "metadata": {},
     "output_type": "execute_result"
    }
   ],
   "source": [
    "fred.get_api_key_file()"
   ]
  },
  {
   "cell_type": "code",
   "execution_count": 15,
   "id": "831343fe-40fa-45f7-920d-7e9c474b05da",
   "metadata": {},
   "outputs": [
    {
     "data": {
      "text/plain": [
       "True"
      ]
     },
     "execution_count": 15,
     "metadata": {},
     "output_type": "execute_result"
    }
   ],
   "source": [
    "fred.set_api_key_file(key_path)"
   ]
  },
  {
   "cell_type": "code",
   "execution_count": 10,
   "id": "1c1cafe6-f2a5-4b77-a309-b50e41f87ef2",
   "metadata": {},
   "outputs": [
    {
     "data": {
      "text/plain": [
       "'35cfe8eb215c8cd59bb67c44aff4f3de'"
      ]
     },
     "execution_count": 10,
     "metadata": {},
     "output_type": "execute_result"
    }
   ],
   "source": [
    "token"
   ]
  },
  {
   "cell_type": "markdown",
   "id": "07cd1313-857e-44c3-a460-5a541aa8ae9a",
   "metadata": {},
   "source": [
    "## PLayground"
   ]
  },
  {
   "cell_type": "code",
   "execution_count": 18,
   "id": "1cb5cf0c-5449-453e-a96f-5702f14f6667",
   "metadata": {},
   "outputs": [
    {
     "data": {
      "text/plain": [
       "{'categories': [{'id': 32991,\n",
       "   'name': 'Money, Banking, & Finance',\n",
       "   'parent_id': 0},\n",
       "  {'id': 10,\n",
       "   'name': 'Population, Employment, & Labor Markets',\n",
       "   'parent_id': 0},\n",
       "  {'id': 32992, 'name': 'National Accounts', 'parent_id': 0},\n",
       "  {'id': 1, 'name': 'Production & Business Activity', 'parent_id': 0},\n",
       "  {'id': 32455, 'name': 'Prices', 'parent_id': 0},\n",
       "  {'id': 32263, 'name': 'International Data', 'parent_id': 0},\n",
       "  {'id': 3008, 'name': 'U.S. Regional Data', 'parent_id': 0},\n",
       "  {'id': 33060, 'name': 'Academic Data', 'parent_id': 0}]}"
      ]
     },
     "execution_count": 18,
     "metadata": {},
     "output_type": "execute_result"
    }
   ],
   "source": [
    "fred.get_child_categories(0)"
   ]
  },
  {
   "cell_type": "code",
   "execution_count": null,
   "id": "ac51df29-0355-4c69-ad2b-4b9eadb1cf02",
   "metadata": {},
   "outputs": [],
   "source": []
  }
 ],
 "metadata": {
  "kernelspec": {
   "display_name": "Python 3 (ipykernel)",
   "language": "python",
   "name": "python3"
  },
  "language_info": {
   "codemirror_mode": {
    "name": "ipython",
    "version": 3
   },
   "file_extension": ".py",
   "mimetype": "text/x-python",
   "name": "python",
   "nbconvert_exporter": "python",
   "pygments_lexer": "ipython3",
   "version": "3.9.15"
  }
 },
 "nbformat": 4,
 "nbformat_minor": 5
}
