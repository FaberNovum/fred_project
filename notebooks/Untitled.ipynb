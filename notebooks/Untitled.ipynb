{
 "cells": [
  {
   "cell_type": "markdown",
   "id": "d20bdac7-5144-425d-9f67-ce1f811a8da3",
   "metadata": {},
   "source": [
    "## Configs"
   ]
  },
  {
   "cell_type": "code",
   "execution_count": 1,
   "id": "a7728ddc-467c-4ef4-afce-f19cfecb71bf",
   "metadata": {},
   "outputs": [],
   "source": [
    "import fredapi as fa\n",
    "import pandas as pd\n",
    "import dotenv\n",
    "# from local_settings import fred as settings\n",
    "# fred = fa.Fred(settings['api_key']"
   ]
  },
  {
   "cell_type": "code",
   "execution_count": 2,
   "id": "27f0c326-5977-42da-8f3c-cac9a73ca60b",
   "metadata": {},
   "outputs": [],
   "source": [
    "from dotenv import load_dotenv\n",
    "import os\n",
    "load_dotenv()\n",
    "token = os.environ.get(\"fred_token\")"
   ]
  },
  {
   "cell_type": "code",
   "execution_count": 3,
   "id": "7ae16330-c683-4c11-bea2-a0f0e6c60e0a",
   "metadata": {},
   "outputs": [
    {
     "data": {
      "text/plain": [
       "'35cfe8eb215c8cd59bb67c44aff4f3de'"
      ]
     },
     "execution_count": 3,
     "metadata": {},
     "output_type": "execute_result"
    }
   ],
   "source": [
    "token"
   ]
  },
  {
   "cell_type": "code",
   "execution_count": null,
   "id": "d58b7501-1f73-47e3-9bbb-f8458cc3b353",
   "metadata": {},
   "outputs": [],
   "source": []
  },
  {
   "cell_type": "code",
   "execution_count": null,
   "id": "3524230f-0def-4b5a-b82a-695560d83f48",
   "metadata": {},
   "outputs": [],
   "source": []
  }
 ],
 "metadata": {
  "kernelspec": {
   "display_name": "Python 3 (ipykernel)",
   "language": "python",
   "name": "python3"
  },
  "language_info": {
   "codemirror_mode": {
    "name": "ipython",
    "version": 3
   },
   "file_extension": ".py",
   "mimetype": "text/x-python",
   "name": "python",
   "nbconvert_exporter": "python",
   "pygments_lexer": "ipython3",
   "version": "3.9.15"
  }
 },
 "nbformat": 4,
 "nbformat_minor": 5
}
