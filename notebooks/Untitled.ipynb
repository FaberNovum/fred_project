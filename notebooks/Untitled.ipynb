{
 "cells": [
  {
   "cell_type": "markdown",
   "id": "d20bdac7-5144-425d-9f67-ce1f811a8da3",
   "metadata": {},
   "source": [
    "## Configs"
   ]
  },
  {
   "cell_type": "code",
   "execution_count": 2,
   "id": "a7728ddc-467c-4ef4-afce-f19cfecb71bf",
   "metadata": {},
   "outputs": [],
   "source": [
    "import fredapi as fa\n",
    "import pandas as pd\n",
    "import dotenv\n",
    "from full_fred.fred import Fred"
   ]
  },
  {
   "cell_type": "code",
   "execution_count": 5,
   "id": "27f0c326-5977-42da-8f3c-cac9a73ca60b",
   "metadata": {},
   "outputs": [],
   "source": [
    "from dotenv import load_dotenv\n",
    "import os\n",
    "load_dotenv()\n",
    "token = os.environ.get(\"fred_token\")"
   ]
  },
  {
   "cell_type": "code",
   "execution_count": 11,
   "id": "9515cf48-d825-4a44-b4b4-6a56c42dbfbf",
   "metadata": {},
   "outputs": [],
   "source": [
    "fred = Fred(r'C:\\Users\\wrigh\\Code\\fred_project\\api_key.txt')"
   ]
  },
  {
   "cell_type": "code",
   "execution_count": 12,
   "id": "5ac8729b-016f-49e8-9e2f-dab59a6eb5fc",
   "metadata": {},
   "outputs": [
    {
     "data": {
      "text/plain": [
       "'C:\\\\Users\\\\wrigh\\\\Code\\\\fred_project\\\\api_key.txt'"
      ]
     },
     "execution_count": 12,
     "metadata": {},
     "output_type": "execute_result"
    }
   ],
   "source": [
    "fred.get_api_key_file()"
   ]
  },
  {
   "cell_type": "code",
   "execution_count": 10,
   "id": "1c1cafe6-f2a5-4b77-a309-b50e41f87ef2",
   "metadata": {},
   "outputs": [
    {
     "data": {
      "text/plain": [
       "'35cfe8eb215c8cd59bb67c44aff4f3de'"
      ]
     },
     "execution_count": 10,
     "metadata": {},
     "output_type": "execute_result"
    }
   ],
   "source": [
    "token"
   ]
  },
  {
   "cell_type": "code",
   "execution_count": null,
   "id": "e663a0ee-6e2a-47ac-8f7a-1a347216a1ec",
   "metadata": {},
   "outputs": [],
   "source": []
  }
 ],
 "metadata": {
  "kernelspec": {
   "display_name": "Python 3 (ipykernel)",
   "language": "python",
   "name": "python3"
  },
  "language_info": {
   "codemirror_mode": {
    "name": "ipython",
    "version": 3
   },
   "file_extension": ".py",
   "mimetype": "text/x-python",
   "name": "python",
   "nbconvert_exporter": "python",
   "pygments_lexer": "ipython3",
   "version": "3.9.15"
  }
 },
 "nbformat": 4,
 "nbformat_minor": 5
}
